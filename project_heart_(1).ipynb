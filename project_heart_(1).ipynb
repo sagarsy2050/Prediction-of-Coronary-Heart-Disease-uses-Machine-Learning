{
  "nbformat": 4,
  "nbformat_minor": 0,
  "metadata": {
    "colab": {
      "name": "project_heart (1).ipynb",
      "provenance": [],
      "collapsed_sections": []
    },
    "kernelspec": {
      "display_name": "Python 3",
      "language": "python",
      "name": "python3"
    },
    "language_info": {
      "codemirror_mode": {
        "name": "ipython",
        "version": 3
      },
      "file_extension": ".py",
      "mimetype": "text/x-python",
      "name": "python",
      "nbconvert_exporter": "python",
      "pygments_lexer": "ipython3",
      "version": "3.7.0"
    }
  },
  "cells": [
    {
      "cell_type": "code",
      "metadata": {
        "id": "W8xmgpBp4TWf"
      },
      "source": [
        "import numpy as np\n",
        "import pandas as pd\n",
        "import matplotlib.pyplot as plt\n",
        "from matplotlib import rcParams\n",
        "from matplotlib.cm import rainbow\n",
        "%matplotlib inline\n",
        "import warnings\n",
        "warnings.filterwarnings('ignore')"
      ],
      "execution_count": null,
      "outputs": []
    },
    {
      "cell_type": "code",
      "metadata": {
        "id": "UXPxvs0l4TWl"
      },
      "source": [
        "#to split the train test data\n",
        "from sklearn.model_selection import train_test_split\n",
        "from sklearn.preprocessing import StandardScaler"
      ],
      "execution_count": null,
      "outputs": []
    },
    {
      "cell_type": "code",
      "metadata": {
        "id": "l2lLafyF4TWo"
      },
      "source": [
        "from sklearn.neighbors import KNeighborsClassifier\n",
        "from sklearn.svm import SVC\n",
        "from sklearn.tree import DecisionTreeClassifier\n",
        "from sklearn.ensemble import RandomForestClassifier\n",
        "from sklearn.metrics import roc_curve\n",
        "from sklearn.metrics import roc_auc_score"
      ],
      "execution_count": null,
      "outputs": []
    },
    {
      "cell_type": "code",
      "metadata": {
        "colab": {
          "background_save": true,
          "resources": {
            "http://localhost:8080/nbextensions/google.colab/files.js": {
              "data": "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",
              "headers": [
                [
                  "content-type",
                  "application/javascript"
                ]
              ],
              "ok": true,
              "status": 200,
              "status_text": ""
            }
          },
          "base_uri": "https://localhost:8080/"
        },
        "id": "c1UX6ZQ7505-",
        "outputId": "acc81b07-c623-41eb-d0f0-007b8fcb66d1"
      },
      "source": [
        "from google.colab import files\n",
        "uploaded = files.upload()"
      ],
      "execution_count": null,
      "outputs": [
        {
          "output_type": "display_data",
          "data": {
            "text/html": [
              "\n",
              "     <input type=\"file\" id=\"files-7009fb8e-14fb-445b-ade6-79374e0b9118\" name=\"files[]\" multiple disabled\n",
              "        style=\"border:none\" />\n",
              "     <output id=\"result-7009fb8e-14fb-445b-ade6-79374e0b9118\">\n",
              "      Upload widget is only available when the cell has been executed in the\n",
              "      current browser session. Please rerun this cell to enable.\n",
              "      </output>\n",
              "      <script src=\"/nbextensions/google.colab/files.js\"></script> "
            ],
            "text/plain": [
              "<IPython.core.display.HTML object>"
            ]
          },
          "metadata": {
            "tags": []
          }
        }
      ]
    },
    {
      "cell_type": "code",
      "metadata": {
        "id": "BmFHH8Li6Smn"
      },
      "source": [
        "import io\n",
        "dataset = pd.read_csv(io.BytesIO(uploaded['framingham.csv']))"
      ],
      "execution_count": null,
      "outputs": []
    },
    {
      "cell_type": "markdown",
      "metadata": {
        "id": "B4r3OdgS_SjR"
      },
      "source": [
        ""
      ]
    },
    {
      "cell_type": "code",
      "metadata": {
        "id": "dUsETMXn4TWq"
      },
      "source": [
        "#Read the dataset\n",
        "#dataset = pd.read_csv('C:\\\\Users\\\\Admin\\\\Downloads\\\\framingham.csv')\n",
        "dataset.head()"
      ],
      "execution_count": null,
      "outputs": []
    },
    {
      "cell_type": "code",
      "metadata": {
        "id": "kxzy-g_24TWu"
      },
      "source": [
        "dataset.info()"
      ],
      "execution_count": null,
      "outputs": []
    },
    {
      "cell_type": "code",
      "metadata": {
        "id": "EEwt99gs4TWx"
      },
      "source": [
        "#Total 16 columns are there and 4238 rows are there. All the features are numeric in nature\n",
        "dataset.describe()"
      ],
      "execution_count": null,
      "outputs": []
    },
    {
      "cell_type": "code",
      "metadata": {
        "id": "60Vvr7Ou4TW0"
      },
      "source": [
        "#Lets now check for null fields\n",
        "import seaborn as sns\n",
        "sns.heatmap(dataset.isnull(),yticklabels=False,cbar=False,cmap='viridis')"
      ],
      "execution_count": null,
      "outputs": []
    },
    {
      "cell_type": "code",
      "metadata": {
        "id": "S9nf7rYB4TW9"
      },
      "source": [
        "dataset.isna().any()\n",
        "#all the nulls have been fixed\n"
      ],
      "execution_count": null,
      "outputs": []
    },
    {
      "cell_type": "code",
      "metadata": {
        "id": "ifCDhkW-4TW3"
      },
      "source": [
        "#From the data we see that Glucose is Null for more than 100 cases, we can either substitute the mean or put 220 \n",
        "#where diabetese is  1 else 100.\n",
        "#BPMEds also can be put basis sysBP, if sysBP > 140 then 1 else 0\n",
        "#cigsperday can also be substituted basis currentsmoker if 0 then 0 else we can put 9 which is the mean\n",
        "#totchol & BMI we can use the mean"
      ],
      "execution_count": null,
      "outputs": []
    },
    {
      "cell_type": "code",
      "metadata": {
        "id": "1Uhlactx4TW6"
      },
      "source": [
        "dataset[\"diabetes\"].fillna(0, inplace = True) \n",
        "cmap = {0:100, 1:220}\n",
        "dataset['glucose'] = dataset['glucose'].fillna(dataset['diabetes'].map(cmap))\n",
        "cmap = {0:0, 1:9}\n",
        "dataset['cigsPerDay'] = dataset['cigsPerDay'].fillna(dataset['currentSmoker'].map(cmap))\n",
        "a_mean = round(dataset.loc[:,\"totChol\"].mean())\n",
        "dataset[\"totChol\"].fillna(a_mean, inplace = True) \n",
        "a_mean = round(dataset.loc[:,\"BMI\"].mean())\n",
        "dataset[\"BMI\"].fillna(a_mean, inplace = True) \n",
        "dataset[\"sysBP\"].fillna(120, inplace = True) \n",
        "dataset[\"diaBP\"].fillna(80, inplace = True) \n",
        "a_mean = round(dataset.loc[:,\"heartRate\"].mean())\n",
        "dataset[\"heartRate\"].fillna(a_mean, inplace = True) \n",
        "a_mean = dataset.loc[:,\"education\"].median()\n",
        "dataset[\"education\"].fillna(a_mean, inplace = True) \n",
        "a_mean = round(dataset.loc[:,\"age\"].mean())\n",
        "dataset[\"age\"].fillna(a_mean, inplace = True) \n",
        "dataset[\"male\"].fillna(0, inplace = True) \n",
        "dataset[\"BPMeds\"].fillna(1, inplace = True) \n",
        "dataset[\"prevalentStroke\"].fillna(0, inplace = True) \n",
        "dataset[\"prevalentHyp\"].fillna(0, inplace = True) "
      ],
      "execution_count": null,
      "outputs": []
    },
    {
      "cell_type": "code",
      "metadata": {
        "id": "I-JQpnel4TXM"
      },
      "source": [
        "#study the data\n",
        "dataset.hist()"
      ],
      "execution_count": null,
      "outputs": []
    },
    {
      "cell_type": "code",
      "metadata": {
        "id": "ufdQerAQ4TXA"
      },
      "source": [
        "#get the correlation\n",
        "plt.figure(figsize=(12,10))\n",
        "cor = dataset.corr()\n",
        "sns.heatmap(cor, annot=True, cmap=plt.cm.Reds)\n",
        "plt.show()"
      ],
      "execution_count": null,
      "outputs": []
    },
    {
      "cell_type": "code",
      "metadata": {
        "id": "lOT6vAFC4TXD"
      },
      "source": [
        "#Following are highly correlated\n",
        "#-----prevalentHyp and sysBP, diaBP \n",
        "#-----sysBP and diabp\n",
        "#-----glucose and diabetes\n",
        "#-----currentsmoker & cigsperday"
      ],
      "execution_count": null,
      "outputs": []
    },
    {
      "cell_type": "code",
      "metadata": {
        "id": "_w6iP9Qa4TXG"
      },
      "source": [
        "#Correlation with output variable\n",
        "cor_target = abs(cor[\"TenYearCHD\"])\n",
        "#Selecting highly correlated features\n",
        "relevant_features = cor_target #[cor_target>0.5]\n",
        "relevant_features"
      ],
      "execution_count": null,
      "outputs": []
    },
    {
      "cell_type": "code",
      "metadata": {
        "id": "dOK-z7pP4TXJ"
      },
      "source": [
        "# We see that the age, sysbp, diabp, glucose, prevalentHyp are having direct correlation with the output parameter"
      ],
      "execution_count": null,
      "outputs": []
    },
    {
      "cell_type": "code",
      "metadata": {
        "id": "hs9SrnVB4TXO"
      },
      "source": [
        "#Lets take a look at the target class distribution\n",
        "rcParams['figure.figsize'] = 8,6\n",
        "plt.bar(dataset['TenYearCHD'].unique(), dataset['TenYearCHD'].value_counts(), color = ['red', 'green'])\n",
        "plt.xticks([0, 1])\n",
        "plt.xlabel('Target Classes')\n",
        "plt.ylabel('Count')\n",
        "plt.title('Count of each Target Class')\n",
        "#the target class is not all balanced, at the end we will try to use XGBoost as see the change in accuracy "
      ],
      "execution_count": null,
      "outputs": []
    },
    {
      "cell_type": "code",
      "metadata": {
        "id": "Lb_iiqQ1sjXR"
      },
      "source": [
        "#The following fields are not standardized, so we will try to \n",
        "standardScaler = StandardScaler()\n",
        "columns_to_scale = ['age', 'cigsPerDay', 'totChol', 'sysBP', 'diaBP', 'BMI', 'heartRate', 'glucose'] \n",
        "dataset[columns_to_scale] = standardScaler.fit_transform(dataset[columns_to_scale])\n",
        "#dataset"
      ],
      "execution_count": null,
      "outputs": []
    },
    {
      "cell_type": "code",
      "metadata": {
        "id": "W7K7bE5b4TXR"
      },
      "source": [
        "y = dataset['TenYearCHD']\n",
        "X = dataset.drop(['TenYearCHD'], axis = 1)\n",
        "X_train, X_test, y_train, y_test = train_test_split(X, y, test_size = 0.33, random_state = 0)"
      ],
      "execution_count": null,
      "outputs": []
    },
    {
      "cell_type": "markdown",
      "metadata": {
        "id": "X7ANRaksWqW8"
      },
      "source": [
        ""
      ]
    },
    {
      "cell_type": "code",
      "metadata": {
        "colab": {
          "base_uri": "https://localhost:8080/",
          "height": 102
        },
        "id": "QEafQ0CG4TXU",
        "outputId": "5fedd697-2f28-4284-e729-ddcdc865a42b"
      },
      "source": [
        "#Logistic Regression\n",
        "from sklearn.linear_model import LogisticRegression\n",
        "#create an instance and fit the model \n",
        "logmodel = LogisticRegression()\n",
        "logmodel.fit(X_train, y_train)\n"
      ],
      "execution_count": null,
      "outputs": [
        {
          "output_type": "execute_result",
          "data": {
            "text/plain": [
              "LogisticRegression(C=1.0, class_weight=None, dual=False, fit_intercept=True,\n",
              "                   intercept_scaling=1, l1_ratio=None, max_iter=100,\n",
              "                   multi_class='warn', n_jobs=None, penalty='l2',\n",
              "                   random_state=None, solver='warn', tol=0.0001, verbose=0,\n",
              "                   warm_start=False)"
            ]
          },
          "metadata": {
            "tags": []
          },
          "execution_count": 12
        }
      ]
    },
    {
      "cell_type": "code",
      "metadata": {
        "id": "hTrYDBl94TXX"
      },
      "source": [
        "#predictions\n",
        "Predictions = logmodel.predict(X_test)"
      ],
      "execution_count": null,
      "outputs": []
    },
    {
      "cell_type": "code",
      "metadata": {
        "colab": {
          "base_uri": "https://localhost:8080/",
          "height": 170
        },
        "id": "OQhmKFFs4TXZ",
        "outputId": "d10920f8-6485-4ab0-da43-6640d6829576"
      },
      "source": [
        "#classification report\n",
        "from sklearn.metrics import classification_report\n",
        "print(classification_report(y_test,Predictions))"
      ],
      "execution_count": null,
      "outputs": [
        {
          "output_type": "stream",
          "text": [
            "              precision    recall  f1-score   support\n",
            "\n",
            "           0       0.86      0.99      0.92      1189\n",
            "           1       0.62      0.06      0.11       210\n",
            "\n",
            "    accuracy                           0.85      1399\n",
            "   macro avg       0.74      0.53      0.52      1399\n",
            "weighted avg       0.82      0.85      0.80      1399\n",
            "\n"
          ],
          "name": "stdout"
        }
      ]
    },
    {
      "cell_type": "code",
      "metadata": {
        "id": "pP0-8lKmeQfJ"
      },
      "source": [
        "import itertools as it"
      ],
      "execution_count": null,
      "outputs": []
    },
    {
      "cell_type": "code",
      "metadata": {
        "id": "V_s0q9kf_5oV"
      },
      "source": [
        "#Evaluation of Model - Confusion Matrix Plot\n",
        "def plot_confusion_matrix(cm, classes,\n",
        "                          normalize=False,\n",
        "                          title='Confusion matrix',\n",
        "                          cmap=plt.cm.Blues):\n",
        "    \"\"\"\n",
        "    This function prints and plots the confusion matrix.\n",
        "    Normalization can be applied by setting `normalize=True`.\n",
        "    \"\"\"\n",
        "    if normalize:\n",
        "        cm = cm.astype('float') / cm.sum(axis=1)[:, np.newaxis]\n",
        "        print(\"Normalized confusion matrix\")\n",
        "    else:\n",
        "        print('Confusion matrix, without normalization')\n",
        "\n",
        "    print(cm)\n",
        "\n",
        "    plt.imshow(cm, interpolation='nearest', cmap=cmap)\n",
        "    plt.title(title)\n",
        "    plt.colorbar()\n",
        "    tick_marks = np.arange(len(classes))\n",
        "    plt.xticks(tick_marks, classes, rotation=45)\n",
        "    plt.yticks(tick_marks, classes)\n",
        "\n",
        "    fmt = '.2f' if normalize else 'd'\n",
        "    thresh = cm.max() / 2.\n",
        "    for i, j in it.product(range(cm.shape[0]), range(cm.shape[1])):\n",
        "      plt.text(j, i, format(cm[i, j], fmt), horizontalalignment=\"center\", color=\"white\" if cm[i, j] > thresh else \"black\")\n",
        "    plt.ylabel('True label')\n",
        "    plt.xlabel('Predicted label')\n",
        "    plt.tight_layout()\n"
      ],
      "execution_count": null,
      "outputs": []
    },
    {
      "cell_type": "code",
      "metadata": {
        "colab": {
          "base_uri": "https://localhost:8080/",
          "height": 433
        },
        "id": "L_Pf0I0D4TXe",
        "outputId": "5da4f1ab-4cc1-4a43-c837-f3385aefbcac"
      },
      "source": [
        "from sklearn.metrics import confusion_matrix\n",
        "cm = confusion_matrix(y_test, Predictions)\n",
        "np.set_printoptions(precision=2)\n",
        "plt.figure()\n",
        "plot_confusion_matrix(cm, classes=['No HD','HD'],\n",
        "                      title='Confusion matrix')\n",
        "\n",
        "#extracting true_positives, false_positives, true_negatives, false_negatives\n",
        "tn, fp, fn, tp = confusion_matrix(y_test, Predictions).ravel()\n",
        "print(\"True Negatives: \",tn)\n",
        "print(\"False Positives: \",fp)\n",
        "print(\"False Negatives: \",fn)\n",
        "print(\"True Positives: \",tp)\n",
        "#Accuracy\n",
        "Accuracy = (tn+tp)*100/(tp+tn+fp+fn) \n",
        "print(\"Accuracy {:0.2f}%:\",format(Accuracy))\n",
        "\n",
        "#print(confusion_matrix(y_test, Predictions))\n",
        "#labels={'No HD', 'HD'}\n",
        "#print(cm)"
      ],
      "execution_count": null,
      "outputs": [
        {
          "output_type": "stream",
          "text": [
            "Confusion matrix, without normalization\n",
            "[[1181    8]\n",
            " [ 197   13]]\n",
            "True Negatives:  1181\n",
            "False Positives:  8\n",
            "False Negatives:  197\n",
            "True Positives:  13\n",
            "Accuracy {:0.2f}%: 85.34667619728377\n"
          ],
          "name": "stdout"
        },
        {
          "output_type": "display_data",
          "data": {
            "image/png": "[encoded data removed]",
            "text/plain": [
              "<Figure size 432x288 with 2 Axes>"
            ]
          },
          "metadata": {
            "tags": []
          }
        }
      ]
    },
    {
      "cell_type": "code",
      "metadata": {
        "id": "jVI8eDLC41pE"
      },
      "source": [
        "# keep probabilities for the positive outcome only\n",
        "# generate a no disease prediction (majority class)\n",
        "ns_probs = [0 for _ in range(len(y_test))]\n",
        "\n",
        "lr_probs = Predictions#[:, 1]\n",
        "# calculate scores\n",
        "ns_auc = roc_auc_score(y_test, ns_probs)\n",
        "lr_auc = roc_auc_score(y_test, lr_probs)\n",
        "# summarize scores\n",
        "print('No Skill: ROC AUC=%.3f' % (ns_auc))\n",
        "print('Logistic: ROC AUC=%.3f' % (lr_auc))\n",
        "# calculate roc curves\n",
        "ns_fpr, ns_tpr, _ = roc_curve(y_test, ns_probs)\n",
        "lr_fpr, lr_tpr, _ = roc_curve(y_test, lr_probs)\n",
        "# plot the roc curve for the model\n",
        "plt.plot(ns_fpr, ns_tpr, linestyle='--', label='No CHD')\n",
        "plt.plot(lr_fpr, lr_tpr, marker='.', label='CHD')\n",
        "# axis labels\n",
        "plt.xlabel('False Positive Rate')\n",
        "plt.ylabel('True Positive Rate')\n",
        "# show the legend\n",
        "plt.legend()\n",
        "# show the plot\n",
        "plt.show()"
      ],
      "execution_count": null,
      "outputs": []
    },
    {
      "cell_type": "code",
      "metadata": {
        "id": "JGEDToz6HMdL"
      },
      "source": [
        "import scikitplot as skplt #to make things easy\n",
        "y_pred_proba = logmodel.predict_proba(X_test)\n",
        "skplt.metrics.plot_roc_curve(y_test, y_pred_proba)\n",
        "plt.show()"
      ],
      "execution_count": null,
      "outputs": []
    },
    {
      "cell_type": "code",
      "metadata": {
        "id": "e-BvPmRNIRbn"
      },
      "source": [
        "#pip install scikit-plot"
      ],
      "execution_count": null,
      "outputs": []
    },
    {
      "cell_type": "code",
      "metadata": {
        "id": "6Yt38H2w4TXj"
      },
      "source": [
        "logmodel.score(X_test, y_test)"
      ],
      "execution_count": null,
      "outputs": []
    },
    {
      "cell_type": "code",
      "metadata": {
        "id": "jMYly09B4TXn"
      },
      "source": [
        "# Now lets try to use ensemble methods to boost\n",
        "import xgboost as xgb\n",
        "model=xgb.XGBClassifier(random_state=1,learning_rate=0.01)\n",
        "model.fit(X_train, y_train)\n",
        "model.score(X_test,y_test)"
      ],
      "execution_count": null,
      "outputs": []
    },
    {
      "cell_type": "code",
      "metadata": {
        "id": "b_2hy53U4TXq"
      },
      "source": [
        "import lightgbm as lgb\n",
        "train_data=lgb.Dataset(X_train,label=y_train)\n",
        "#define parameters\n",
        "params = {'learning_rate':0.001}\n",
        "model= lgb.train(params, train_data, 100) \n",
        "y_pred=model.predict(X_test)\n",
        "for i in range(0,185):\n",
        "    if y_pred[i]>=0.5:\n",
        "        y_pred[i]=1\n",
        "    else:\n",
        "        y_pred[i]=0"
      ],
      "execution_count": null,
      "outputs": []
    },
    {
      "cell_type": "code",
      "metadata": {
        "id": "jn7ndz9l4TXt"
      },
      "source": [
        "print(y_pred)"
      ],
      "execution_count": null,
      "outputs": []
    },
    {
      "cell_type": "code",
      "metadata": {
        "id": "J04yJyehVNW_"
      },
      "source": [
        "#Import feature selector class select model of sklearn\n",
        "from sklearn.feature_selection import SelectFromModel"
      ],
      "execution_count": null,
      "outputs": []
    },
    {
      "cell_type": "code",
      "metadata": {
        "id": "8Oy5aRkOVgC_"
      },
      "source": [
        "#Function to evaluate model performance\n",
        "\n",
        "def getAccuracy(pre,ytest): \n",
        "  count = 0\n",
        "  for i in range(len(ytest)):\n",
        "    if ytest[i]==pre[i]:\n",
        "      count+=1\n",
        "  acc = float(count)/len(ytest)\n",
        "  return acc"
      ],
      "execution_count": null,
      "outputs": []
    },
    {
      "cell_type": "code",
      "metadata": {
        "id": "jWjfbFAHV7CR"
      },
      "source": [
        "#Extract attribute names from the data frame\n",
        "\n",
        "feat = X_train.keys()\n",
        "\n",
        "feat_labels = feat.get_values()\n",
        "print(feat_labels)"
      ],
      "execution_count": null,
      "outputs": []
    },
    {
      "cell_type": "code",
      "metadata": {
        "id": "JwAuQMFxXKi8"
      },
      "source": [
        "#Create a random forest classifier with the following Parameters\n",
        "\n",
        "trees=250\n",
        "max_feat=7\n",
        "max_depth=30\n",
        "min_sample=2\n",
        "\n",
        "clf = RandomForestClassifier(n_estimators=trees,\n",
        "\n",
        "max_features=max_feat,\n",
        "\n",
        "max_depth=max_depth,\n",
        "\n",
        "min_samples_split= min_sample, random_state=0,\n",
        "\n",
        "n_jobs=-1)\n",
        "\n",
        "#Train the classifier and calculate the training time\n",
        "\n",
        "import time\n",
        "\n",
        "start = time.time()\n",
        "clf.fit(X_train, y_train)\n",
        "end = time.time()\n",
        "\n",
        "#Lets Note down the model training time\n",
        "\n",
        "print(\"Execution time for building the Tree is: %f\"%(float(end)- float(start)))\n",
        "\n",
        "pred = clf.predict(X_test)\n",
        "\n",
        "#Let's see how much time is required to train the model on the training dataset:\n",
        "\n",
        "#Evaluate the model performance for the test data"
      ],
      "execution_count": null,
      "outputs": []
    },
    {
      "cell_type": "code",
      "metadata": {
        "id": "4p1DbW1HYeeV"
      },
      "source": [
        "#acc = getAccuracy(pred, y_test)\n",
        "from sklearn.metrics import classification_report\n",
        "print(classification_report(y_test,pred))\n",
        "\n",
        "#print(\"Accuracy of model before feature selection is %.2f\"%(100*acc))"
      ],
      "execution_count": null,
      "outputs": []
    },
    {
      "cell_type": "code",
      "metadata": {
        "id": "V4O2zSduZ9CH"
      },
      "source": [
        "feature = zip(feat_labels, clf.feature_importances_)\n",
        "print(list(feature))"
      ],
      "execution_count": null,
      "outputs": []
    },
    {
      "cell_type": "code",
      "metadata": {
        "id": "eRm--5IyaoMN"
      },
      "source": [
        "#Select features which have higher contribution in the final prediction\n",
        "\n",
        "sfm = SelectFromModel(clf, threshold=0.01) \n",
        "sfm.fit(X_train,y_train)"
      ],
      "execution_count": null,
      "outputs": []
    },
    {
      "cell_type": "code",
      "metadata": {
        "id": "sBgKFQ6bbMNU"
      },
      "source": [
        "#Transform input dataset\n",
        "\n",
        "Xtrain_1 = sfm.transform(X_train) \n",
        "Xtest_1 = sfm.transform(X_test)\n",
        "shape = np.shape(Xtrain_1)\n",
        "print(\"Shape of the dataset \",shape)"
      ],
      "execution_count": null,
      "outputs": []
    },
    {
      "cell_type": "code",
      "metadata": {
        "id": "q9tCa_IubjH1"
      },
      "source": [
        "#Model training time\n",
        "\n",
        "start = time.time()\n",
        "clf.fit(Xtrain_1, y_train)\n",
        "end = time.time()\n",
        "\n",
        "print(\"Execution time for building the Tree is: %f\"%(float(end)- float(start)))\n",
        "\n",
        "#Let's evaluate the model on test data\n",
        "\n",
        "pre = clf.predict(Xtest_1)\n",
        "count = 0\n",
        "print(classification_report(y_test,pre))\n"
      ],
      "execution_count": null,
      "outputs": []
    },
    {
      "cell_type": "code",
      "metadata": {
        "id": "kSpF7p9jqJ8Y"
      },
      "source": [
        "#### K Neighbors Classifier\n",
        "\n",
        "#The classification score varies based on different values of neighbors that we choose. Thus, I'll plot a score graph for different values of K (neighbors) \n",
        "#and check when do I achieve the best score."
      ],
      "execution_count": null,
      "outputs": []
    },
    {
      "cell_type": "code",
      "metadata": {
        "id": "1MfgZXiPqR2p"
      },
      "source": [
        "knn_scores = []\n",
        "for k in range(1,21):\n",
        "    knn_classifier = KNeighborsClassifier(n_neighbors = k)\n",
        "    knn_classifier.fit(X_train, y_train)\n",
        "    knn_scores.append(round(knn_classifier.score(X_test, y_test), 4))"
      ],
      "execution_count": null,
      "outputs": []
    },
    {
      "cell_type": "code",
      "metadata": {
        "id": "TGbsz_z0-6PF"
      },
      "source": [
        ""
      ],
      "execution_count": null,
      "outputs": []
    },
    {
      "cell_type": "code",
      "metadata": {
        "colab": {
          "base_uri": "https://localhost:8080/",
          "height": 312
        },
        "id": "TUfj9WxpqSe1",
        "outputId": "41c8298d-cf12-439c-da91-b039d0765d66"
      },
      "source": [
        "plt.plot([k for k in range(1, 21)], knn_scores, color = 'red')\n",
        "for i in range(1,21):\n",
        "    plt.text(i, knn_scores[i-1], (i, knn_scores[i-1]))\n",
        "plt.xticks([i for i in range(1, 21)])\n",
        "plt.xlabel('Number of Neighbors (K)')\n",
        "plt.ylabel('Scores')\n",
        "plt.title('K Neighbors Classifier scores for different K values')"
      ],
      "execution_count": null,
      "outputs": [
        {
          "output_type": "execute_result",
          "data": {
            "text/plain": [
              "Text(0.5, 1.0, 'K Neighbors Classifier scores for different K values')"
            ]
          },
          "metadata": {
            "tags": []
          },
          "execution_count": 56
        },
        {
          "output_type": "display_data",
          "data": {
            "image/png": "[encoded data removed]",
            "text/plain": [
              "<Figure size 432x288 with 1 Axes>"
            ]
          },
          "metadata": {
            "tags": []
          }
        }
      ]
    },
    {
      "cell_type": "code",
      "metadata": {
        "colab": {
          "base_uri": "https://localhost:8080/",
          "height": 34
        },
        "id": "XAEAfEoNqTEY",
        "outputId": "3b8eae47-58cc-40b0-c8b4-2ad22e227435"
      },
      "source": [
        "print(\"The score for K Neighbors Classifier is {}% with {} nieghbors.\".format(knn_scores[7]*100, 2))"
      ],
      "execution_count": null,
      "outputs": [
        {
          "output_type": "stream",
          "text": [
            "The score for K Neighbors Classifier is 85.13% with 2 nieghbors.\n"
          ],
          "name": "stdout"
        }
      ]
    },
    {
      "cell_type": "code",
      "metadata": {
        "id": "xT9No6XTys8A"
      },
      "source": [
        "#SVC There are several kernels for Support Vector Classifier. I'll test some of them and check which has the best score.\n",
        "svc_scores = []\n",
        "kernels = ['linear', 'poly', 'rbf', 'sigmoid']\n",
        "for i in range(len(kernels)):\n",
        "    svc_classifier = SVC(kernel = kernels[i])\n",
        "    svc_classifier.fit(X_train, y_train)\n",
        "    svc_scores.append(round(svc_classifier.score(X_test, y_test), 3))"
      ],
      "execution_count": null,
      "outputs": []
    },
    {
      "cell_type": "code",
      "metadata": {
        "colab": {
          "base_uri": "https://localhost:8080/",
          "height": 312
        },
        "id": "f8d7RpdMyuSM",
        "outputId": "19852d91-a65e-423b-862f-b63cccda57b2"
      },
      "source": [
        "#Plot the scores against each of the kernel\n",
        "colors = rainbow(np.linspace(0, 1, len(kernels)))\n",
        "plt.bar(kernels, svc_scores, color = colors)\n",
        "for i in range(len(kernels)):\n",
        "    plt.text(i, svc_scores[i], svc_scores[i])\n",
        "plt.xlabel('Kernels')\n",
        "plt.ylabel('Scores')\n",
        "plt.title('Support Vector Classifier scores for different kernels')"
      ],
      "execution_count": null,
      "outputs": [
        {
          "output_type": "execute_result",
          "data": {
            "text/plain": [
              "Text(0.5, 1.0, 'Support Vector Classifier scores for different kernels')"
            ]
          },
          "metadata": {
            "tags": []
          },
          "execution_count": 41
        },
        {
          "output_type": "display_data",
          "data": {
            "image/png": "[encoded data removed]",
            "text/plain": [
              "<Figure size 432x288 with 1 Axes>"
            ]
          },
          "metadata": {
            "tags": []
          }
        }
      ]
    },
    {
      "cell_type": "code",
      "metadata": {
        "colab": {
          "base_uri": "https://localhost:8080/",
          "height": 34
        },
        "id": "rhg0samAytmX",
        "outputId": "fe30a06d-20fe-415e-f1c4-94d5166ff10b"
      },
      "source": [
        "\n",
        "print(\"The score for Support Vector Classifier is {}% with {} kernel.\".format(svc_scores[0]*100, 'poly'))"
      ],
      "execution_count": null,
      "outputs": [
        {
          "output_type": "stream",
          "text": [
            "The score for Support Vector Classifier is 85.0% with poly kernel.\n"
          ],
          "name": "stdout"
        }
      ]
    },
    {
      "cell_type": "code",
      "metadata": {
        "id": "GYcw1NUjyu_8"
      },
      "source": [
        "#Decision Trees\n",
        "dt_scores = []\n",
        "for i in range(1, len(X.columns) + 1):\n",
        "    dt_classifier = DecisionTreeClassifier(max_features = i, random_state = 0)\n",
        "    dt_classifier.fit(X_train, y_train)\n",
        "    dt_scores.append(round(dt_classifier.score(X_test, y_test), 3))"
      ],
      "execution_count": null,
      "outputs": []
    },
    {
      "cell_type": "code",
      "metadata": {
        "colab": {
          "base_uri": "https://localhost:8080/",
          "height": 312
        },
        "id": "tdYbxihZ0zpZ",
        "outputId": "128d1471-5529-4ccb-f103-dae313b56dbb"
      },
      "source": [
        "plt.plot([i for i in range(1, len(X.columns) + 1)], dt_scores, color = 'green')\n",
        "for i in range(1, len(X.columns) + 1):\n",
        "    plt.text(i, dt_scores[i-1], (i, dt_scores[i-1]))\n",
        "plt.xticks([i for i in range(1, len(X.columns) + 1)])\n",
        "plt.xlabel('Max features')\n",
        "plt.ylabel('Scores')\n",
        "plt.title('Decision Tree Classifier scores for different number of maximum features')"
      ],
      "execution_count": null,
      "outputs": [
        {
          "output_type": "execute_result",
          "data": {
            "text/plain": [
              "Text(0.5, 1.0, 'Decision Tree Classifier scores for different number of maximum features')"
            ]
          },
          "metadata": {
            "tags": []
          },
          "execution_count": 47
        },
        {
          "output_type": "display_data",
          "data": {
            "image/png": "[encoded data removed]",
            "text/plain": [
              "<Figure size 432x288 with 1 Axes>"
            ]
          },
          "metadata": {
            "tags": []
          }
        }
      ]
    },
    {
      "cell_type": "code",
      "metadata": {
        "colab": {
          "base_uri": "https://localhost:8080/",
          "height": 34
        },
        "id": "gVNKwyMA00iD",
        "outputId": "c1f6f5ff-d5b4-4de7-9d15-30883e3f6eda"
      },
      "source": [
        "print(\"The score for Decision Tree Classifier is {}% with {} maximum features.\".format(dt_scores[7]*100, [1,3,6]))"
      ],
      "execution_count": null,
      "outputs": [
        {
          "output_type": "stream",
          "text": [
            "The score for Decision Tree Classifier is 76.3% with [1, 3, 6] maximum features.\n"
          ],
          "name": "stdout"
        }
      ]
    },
    {
      "cell_type": "code",
      "metadata": {
        "id": "xF8yS6Mg9pHh"
      },
      "source": [
        "rf_scores = []\n",
        "estimators = [10, 100, 200, 500, 1000]\n",
        "for i in estimators:\n",
        "    rf_classifier = RandomForestClassifier(n_estimators = i, random_state = 0)\n",
        "    rf_classifier.fit(X_train, y_train)\n",
        "    rf_scores.append(round(rf_classifier.score(X_test, y_test), 4))"
      ],
      "execution_count": null,
      "outputs": []
    },
    {
      "cell_type": "code",
      "metadata": {
        "colab": {
          "base_uri": "https://localhost:8080/",
          "height": 312
        },
        "id": "s0bqtYxj9xkA",
        "outputId": "a3d13f84-bd72-4a26-aa94-e9df69bb28a9"
      },
      "source": [
        "colors = rainbow(np.linspace(0, 1, len(estimators)))\n",
        "plt.bar([i for i in range(len(estimators))], rf_scores, color = colors, width = 0.8)\n",
        "for i in range(len(estimators)):\n",
        "    plt.text(i, rf_scores[i], rf_scores[i])\n",
        "plt.xticks(ticks = [i for i in range(len(estimators))], labels = [str(estimator) for estimator in estimators])\n",
        "plt.xlabel('Number of estimators')\n",
        "plt.ylabel('Scores')\n",
        "plt.title('Random Forest Classifier scores for different number of estimators')"
      ],
      "execution_count": null,
      "outputs": [
        {
          "output_type": "execute_result",
          "data": {
            "text/plain": [
              "Text(0.5, 1.0, 'Random Forest Classifier scores for different number of estimators')"
            ]
          },
          "metadata": {
            "tags": []
          },
          "execution_count": 53
        },
        {
          "output_type": "display_data",
          "data": {
            "image/png": "[encoded data removed]",
            "text/plain": [
              "<Figure size 432x288 with 1 Axes>"
            ]
          },
          "metadata": {
            "tags": []
          }
        }
      ]
    },
    {
      "cell_type": "code",
      "metadata": {
        "colab": {
          "base_uri": "https://localhost:8080/",
          "height": 34
        },
        "id": "4Sg666Y6-Sv6",
        "outputId": "4b4dbc13-11c2-4032-dc97-d69739f1c83a"
      },
      "source": [
        "#the maximum score is for 200, 500 & 1000\n",
        "print(\"The score for Random Forest Classifier is {}% with {} estimators.\".format(rf_scores[1]*100, [200, 500, 1000]))"
      ],
      "execution_count": null,
      "outputs": [
        {
          "output_type": "stream",
          "text": [
            "The score for Random Forest Classifier is 85.42% with [200, 500, 1000] estimators.\n"
          ],
          "name": "stdout"
        }
      ]
    }
  ]
}